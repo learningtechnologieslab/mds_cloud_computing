{
 "cells": [
  {
   "cell_type": "markdown",
   "id": "7cb9dc52",
   "metadata": {},
   "source": [
    "# TV Marketing Analysis with scikit-learn"
   ]
  },
  {
   "cell_type": "code",
   "execution_count": null,
   "id": "c03e64a2",
   "metadata": {},
   "outputs": [],
   "source": [
    "import pandas as pd\n",
    "import matplotlib.pyplot as plt\n",
    "from sklearn.model_selection import train_test_split\n",
    "from sklearn.linear_model import LinearRegression\n",
    "from sklearn.metrics import root_mean_squared_error, r2_score\n"
   ]
  },
  {
   "cell_type": "code",
   "execution_count": null,
   "id": "0ccadb1c",
   "metadata": {},
   "outputs": [],
   "source": [
    "## 2. Load the Dataset\n",
    "\n",
    "# Load the CSV dataset\n",
    "df = pd.read_csv(\"tvmarketing.csv\")\n",
    "\n",
    "# Display the first few rows\n",
    "df.head()\n"
   ]
  },
  {
   "cell_type": "code",
   "execution_count": null,
   "id": "d8d05ded",
   "metadata": {},
   "outputs": [],
   "source": [
    "## 3. Visualize the Relationship\n",
    "\n",
    "plt.scatter(df[\"TV\"], df[\"Sales\"], color=\"blue\")\n",
    "plt.xlabel(\"TV Advertising Spend (in thousands of $)\")\n",
    "plt.ylabel(\"Sales (in thousands of units)\")\n",
    "plt.title(\"TV Spend vs Sales\")\n",
    "plt.show()\n"
   ]
  },
  {
   "cell_type": "code",
   "execution_count": null,
   "id": "6341630c",
   "metadata": {},
   "outputs": [],
   "source": [
    "## 4. Prepare the Data\n",
    "\n",
    "X = df[[\"TV\"]]  # Feature/Predictor\n",
    "y = df[\"Sales\"]  # Target\n",
    "\n",
    "# Split into training and testing sets\n",
    "X_train, X_test, y_train, y_test = train_test_split(X, y, test_size=0.2, random_state=42)\n"
   ]
  },
  {
   "cell_type": "code",
   "execution_count": null,
   "id": "5f575e53",
   "metadata": {},
   "outputs": [],
   "source": [
    "## 5. Train the Linear Regression Model\n",
    "\n",
    "model = LinearRegression()\n",
    "model.fit(X_train, y_train)\n",
    "\n",
    "# Print the coefficient and intercept\n",
    "print(f\"Coefficient: {model.coef_[0]:.3f}\")\n",
    "print(f\"Intercept: {model.intercept_:.3f}\")\n"
   ]
  },
  {
   "cell_type": "code",
   "execution_count": null,
   "id": "e624e076",
   "metadata": {},
   "outputs": [],
   "source": [
    "## 6. Make Predictions\n",
    "\n",
    "y_pred = model.predict(X_test)\n",
    "\n",
    "# Show first few predictions\n",
    "pd.DataFrame({\"TV\": X_test[\"TV\"], \"Actual Sales\": y_test, \"Predicted Sales\": y_pred}).head()\n"
   ]
  },
  {
   "cell_type": "code",
   "execution_count": null,
   "id": "375b31f5",
   "metadata": {},
   "outputs": [],
   "source": [
    "## 7. Evaluate the Model\n",
    "\n",
    "rmse = root_mean_squared_error(y_test, y_pred)\n",
    "r2 = r2_score(y_test, y_pred)\n",
    "\n",
    "print(f\"Root Mean Squared Error (RMSE): {rmse:.3f}\")\n",
    "print(f\"R-squared: {r2:.3f}\")\n"
   ]
  },
  {
   "cell_type": "code",
   "execution_count": null,
   "id": "27b03790",
   "metadata": {},
   "outputs": [],
   "source": [
    "## 8. Plot the Regression Line\n",
    "plt.scatter(X, y, color=\"lightgray\")\n",
    "plt.plot(X, model.predict(X), color=\"red\")\n",
    "plt.xlabel(\"TV Advertising Spend (in thousands of $)\")\n",
    "plt.ylabel(\"Sales (in thousands of units)\")\n",
    "plt.title(\"Linear Regression Fit\")\n",
    "plt.show()\n"
   ]
  },
  {
   "cell_type": "code",
   "execution_count": null,
   "id": "370962d6",
   "metadata": {},
   "outputs": [],
   "source": []
  }
 ],
 "metadata": {
  "kernelspec": {
   "display_name": "base",
   "language": "python",
   "name": "python3"
  },
  "language_info": {
   "codemirror_mode": {
    "name": "ipython",
    "version": 3
   },
   "file_extension": ".py",
   "mimetype": "text/x-python",
   "name": "python",
   "nbconvert_exporter": "python",
   "pygments_lexer": "ipython3",
   "version": "3.12.4"
  }
 },
 "nbformat": 4,
 "nbformat_minor": 5
}
