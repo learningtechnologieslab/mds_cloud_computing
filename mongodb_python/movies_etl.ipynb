{
 "cells": [
  {
   "cell_type": "code",
   "execution_count": 36,
   "id": "5e0c3289",
   "metadata": {},
   "outputs": [
    {
     "name": "stdout",
     "output_type": "stream",
     "text": [
      "Requirement already satisfied: pymongo in /opt/anaconda3/lib/python3.12/site-packages (4.12.0)\n",
      "Collecting mysql-connector-python\n",
      "  Downloading mysql_connector_python-9.3.0-cp312-cp312-macosx_14_0_arm64.whl.metadata (7.5 kB)\n",
      "Requirement already satisfied: pandas in /opt/anaconda3/lib/python3.12/site-packages (2.2.2)\n",
      "Requirement already satisfied: dnspython<3.0.0,>=1.16.0 in /opt/anaconda3/lib/python3.12/site-packages (from pymongo) (2.7.0)\n",
      "Requirement already satisfied: numpy>=1.26.0 in /opt/anaconda3/lib/python3.12/site-packages (from pandas) (1.26.4)\n",
      "Requirement already satisfied: python-dateutil>=2.8.2 in /opt/anaconda3/lib/python3.12/site-packages (from pandas) (2.9.0.post0)\n",
      "Requirement already satisfied: pytz>=2020.1 in /opt/anaconda3/lib/python3.12/site-packages (from pandas) (2024.1)\n",
      "Requirement already satisfied: tzdata>=2022.7 in /opt/anaconda3/lib/python3.12/site-packages (from pandas) (2023.3)\n",
      "Requirement already satisfied: six>=1.5 in /opt/anaconda3/lib/python3.12/site-packages (from python-dateutil>=2.8.2->pandas) (1.16.0)\n",
      "Downloading mysql_connector_python-9.3.0-cp312-cp312-macosx_14_0_arm64.whl (15.2 MB)\n",
      "\u001b[2K   \u001b[90m━━━━━━━━━━━━━━━━━━━━━━━━━━━━━━━━━━━━━━━━\u001b[0m \u001b[32m15.2/15.2 MB\u001b[0m \u001b[31m37.7 MB/s\u001b[0m eta \u001b[36m0:00:00\u001b[0ma \u001b[36m0:00:01\u001b[0m\n",
      "\u001b[?25hInstalling collected packages: mysql-connector-python\n",
      "Successfully installed mysql-connector-python-9.3.0\n"
     ]
    }
   ],
   "source": [
    "# 1. Install libraries if not already installed\n",
    "!pip install pymongo mysql-connector-python pandas\n"
   ]
  },
  {
   "cell_type": "code",
   "execution_count": 37,
   "id": "c9580f94",
   "metadata": {},
   "outputs": [],
   "source": [
    "# 2. Import libraries\n",
    "import mysql.connector\n",
    "from pymongo import MongoClient\n",
    "import pandas as pd\n",
    "from datetime import datetime\n",
    "from decimal import Decimal"
   ]
  },
  {
   "cell_type": "code",
   "execution_count": null,
   "id": "b375386a",
   "metadata": {},
   "outputs": [],
   "source": [
    "# 3. MySQL Connection\n",
    "mysql_conn = mysql.connector.connect(\n",
    "    host='mdsmysql.sci.pitt.edu',\n",
    "    user='mdsGlobalUser',\n",
    "    password='mds$uper$ecurePassword123',\n",
    "    database='sakila'\n",
    ")\n",
    "mysql_cursor = mysql_conn.cursor(dictionary=True)"
   ]
  },
  {
   "cell_type": "code",
   "execution_count": 39,
   "id": "8434990b",
   "metadata": {},
   "outputs": [
    {
     "name": "stdout",
     "output_type": "stream",
     "text": [
      "✅ Successfully connected to MongoDB with authentication.\n",
      "Available databases: []\n"
     ]
    }
   ],
   "source": [
    "# 4. MongoDB Connection\n",
    "username = \"etladmin\"\n",
    "password = \"securePassword123\"\n",
    "host = \"mdsmongodb.sci.pitt.edu\"\n",
    "port = 27017\n",
    "auth_db = \"sakila\"  # or the database where the user is defined\n",
    "\n",
    "# Format the connection string\n",
    "uri = f\"mongodb://{username}:{password}@{host}:{port}/?authSource={auth_db}\"\n",
    "\n",
    "mongo_client = MongoClient(uri)\n",
    "mongo_db = mongo_client['sakila']\n",
    "mongo_client.admin.command('ping')  # Trigger connection\n",
    "print(\"✅ Successfully connected to MongoDB with authentication.\")\n",
    "print(\"Available databases:\", mongo_client.list_database_names())"
   ]
  },
  {
   "cell_type": "code",
   "execution_count": 40,
   "id": "ef6f691d",
   "metadata": {},
   "outputs": [
    {
     "name": "stdout",
     "output_type": "stream",
     "text": [
      "Found tables: ['actor', 'actor_info', 'address', 'category', 'city', 'country', 'customer', 'customer_list', 'film', 'film_actor', 'film_category', 'film_list', 'film_text', 'inventory', 'language', 'nicer_but_slower_film_list', 'payment', 'rental', 'sales_by_film_category', 'sales_by_store', 'staff', 'staff_list', 'store']\n"
     ]
    }
   ],
   "source": [
    "# 5. List all tables in Sakila MySQL\n",
    "mysql_cursor.execute(\"SHOW TABLES\")\n",
    "tables = [row[f'Tables_in_sakila'] for row in mysql_cursor.fetchall()]\n",
    "\n",
    "print(f\"Found tables: {tables}\")\n"
   ]
  },
  {
   "cell_type": "code",
   "execution_count": 43,
   "id": "c7964580",
   "metadata": {},
   "outputs": [],
   "source": [
    "\n",
    "# 6. Define a transformation function\n",
    "def transform_types(record):\n",
    "    transformed = {}\n",
    "    for key, value in record.items():\n",
    "        if isinstance(value, Decimal):\n",
    "            transformed[key] = float(value)\n",
    "        elif isinstance(value, datetime):\n",
    "            transformed[key] = value  # Already compatible\n",
    "        elif isinstance(value, set):\n",
    "            transformed[key] = list(value)  # 🔥 Convert sets to lists\n",
    "        else:\n",
    "            transformed[key] = value\n",
    "    return transformed\n"
   ]
  },
  {
   "cell_type": "code",
   "execution_count": 44,
   "id": "2e1540f6",
   "metadata": {},
   "outputs": [
    {
     "name": "stdout",
     "output_type": "stream",
     "text": [
      "Processing table: actor\n",
      "Inserted 200 records into actor collection.\n",
      "Processing table: actor_info\n",
      "Inserted 200 records into actor_info collection.\n",
      "Processing table: address\n",
      "Inserted 603 records into address collection.\n",
      "Processing table: category\n",
      "Inserted 16 records into category collection.\n",
      "Processing table: city\n",
      "Inserted 600 records into city collection.\n",
      "Processing table: country\n",
      "Inserted 109 records into country collection.\n",
      "Processing table: customer\n",
      "Inserted 599 records into customer collection.\n",
      "Processing table: customer_list\n",
      "Inserted 599 records into customer_list collection.\n",
      "Processing table: film\n",
      "Inserted 1000 records into film collection.\n",
      "Processing table: film_actor\n",
      "Inserted 5462 records into film_actor collection.\n",
      "Processing table: film_category\n",
      "Inserted 1000 records into film_category collection.\n",
      "Processing table: film_list\n",
      "Inserted 1000 records into film_list collection.\n",
      "Processing table: film_text\n",
      "Inserted 1000 records into film_text collection.\n",
      "Processing table: inventory\n",
      "Inserted 4581 records into inventory collection.\n",
      "Processing table: language\n",
      "Inserted 6 records into language collection.\n",
      "Processing table: nicer_but_slower_film_list\n",
      "Inserted 1000 records into nicer_but_slower_film_list collection.\n",
      "Processing table: payment\n",
      "Inserted 16044 records into payment collection.\n",
      "Processing table: rental\n",
      "Inserted 16044 records into rental collection.\n",
      "Processing table: sales_by_film_category\n",
      "Inserted 16 records into sales_by_film_category collection.\n",
      "Processing table: sales_by_store\n",
      "Inserted 2 records into sales_by_store collection.\n",
      "Processing table: staff\n",
      "Inserted 2 records into staff collection.\n",
      "Processing table: staff_list\n",
      "Inserted 2 records into staff_list collection.\n",
      "Processing table: store\n",
      "Inserted 2 records into store collection.\n"
     ]
    }
   ],
   "source": [
    "# 7. Migrate each table\n",
    "for table in tables:\n",
    "    print(f\"Processing table: {table}\")\n",
    "\n",
    "    mysql_cursor.execute(f\"SELECT * FROM {table}\")\n",
    "    rows = mysql_cursor.fetchall()\n",
    "\n",
    "    # Transform records\n",
    "    documents = [transform_types(row) for row in rows]\n",
    "\n",
    "    if documents:\n",
    "        mongo_collection = mongo_db[table]\n",
    "        mongo_collection.insert_many(documents)\n",
    "        print(f\"Inserted {len(documents)} records into {table} collection.\")\n",
    "    else:\n",
    "        print(f\"No records found in {table}.\")\n",
    "\n",
    "\n"
   ]
  },
  {
   "cell_type": "code",
   "execution_count": null,
   "id": "171b7890",
   "metadata": {},
   "outputs": [],
   "source": [
    "# 8. Clean up\n",
    "mysql_cursor.close()\n",
    "mysql_conn.close()\n",
    "mongo_client.close()\n",
    "\n",
    "print(\"✅ Migration complete!\")"
   ]
  },
  {
   "cell_type": "code",
   "execution_count": null,
   "id": "8c1b498f",
   "metadata": {},
   "outputs": [],
   "source": []
  }
 ],
 "metadata": {
  "kernelspec": {
   "display_name": "base",
   "language": "python",
   "name": "python3"
  },
  "language_info": {
   "codemirror_mode": {
    "name": "ipython",
    "version": 3
   },
   "file_extension": ".py",
   "mimetype": "text/x-python",
   "name": "python",
   "nbconvert_exporter": "python",
   "pygments_lexer": "ipython3",
   "version": "3.12.4"
  }
 },
 "nbformat": 4,
 "nbformat_minor": 5
}
