{
 "cells": [
  {
   "cell_type": "markdown",
   "id": "b9d310c7-ffb1-465f-a2c7-992ab8eda706",
   "metadata": {},
   "source": [
    "# Multiple Instruction, Multiple Data (MIMD)"
   ]
  },
  {
   "cell_type": "markdown",
   "id": "05183d1c-10eb-4328-a67b-16e8cf391ce4",
   "metadata": {},
   "source": [
    "## Multiple Instruction, Multiple Data (MIMD) Programming Model Example in Python\n",
    "\n",
    "The Multiple Instruction, Multiple Data (MIMD) model allows multiple processors to execute different instructions on different pieces of data simultaneously. This model is highly flexible and is widely used in distributed systems, cloud computing, and parallel processing.\n",
    "\n",
    "In this example, we'll simulate an MIMD system using Python's concurrent.futures module. Each \"processor\" will perform a different task (instruction) on a chunk of data.\n",
    "\n",
    "### Example Scenario: Data Analytics on Sales Data\n",
    "Imagine we have sales data for different regions. Each region's data needs to undergo different transformations or analyses:\n",
    "\n",
    "* Region A: Calculate the total sales.\n",
    "* Region B: Find the maximum sale.\n",
    "* Region C: Calculate the average sale.\n",
    "\n",
    "These tasks are independent and can be executed in parallel, illustrating the MIMD model."
   ]
  },
  {
   "cell_type": "markdown",
   "id": "7b8a7e89-9fdd-429d-a560-c38d424d88ff",
   "metadata": {},
   "source": [
    "#### Step 1: Import Required Libraries\n",
    "We'll use the concurrent.futures module for parallel processing."
   ]
  },
  {
   "cell_type": "code",
   "execution_count": 5,
   "id": "205466e3-967c-4350-99aa-4b9a5a6a2900",
   "metadata": {},
   "outputs": [],
   "source": [
    "from concurrent.futures import ThreadPoolExecutor\n",
    "import random\n"
   ]
  },
  {
   "cell_type": "markdown",
   "id": "cda4726b-6214-4d97-9ccc-841e26966bf1",
   "metadata": {},
   "source": [
    "#### Step 2: Generate Sample Data\n",
    "Simulate sales data for three regions, each with a list of sales amounts."
   ]
  },
  {
   "cell_type": "code",
   "execution_count": 8,
   "id": "b2ef01c0-e1e0-47f5-a53a-3435b94c0844",
   "metadata": {},
   "outputs": [
    {
     "name": "stdout",
     "output_type": "stream",
     "text": [
      "Region A Sales: [635, 592, 179, 972, 811, 122, 306, 790, 283, 938]\n",
      "Region B Sales: [392, 1277, 817, 727, 1153, 123, 484, 1011, 591, 1407]\n",
      "Region C Sales: [1152, 1015, 891, 435, 832, 790, 260, 236, 1151, 1165]\n"
     ]
    }
   ],
   "source": [
    "# Generate random sales data for three regions\n",
    "region_a_sales = [random.randint(100, 1000) for _ in range(10)]\n",
    "region_b_sales = [random.randint(50, 1500) for _ in range(10)]\n",
    "region_c_sales = [random.randint(200, 1200) for _ in range(10)]\n",
    "\n",
    "# Print the data\n",
    "print(\"Region A Sales:\", region_a_sales)\n",
    "print(\"Region B Sales:\", region_b_sales)\n",
    "print(\"Region C Sales:\", region_c_sales)\n"
   ]
  },
  {
   "cell_type": "markdown",
   "id": "d6c0fd30-b4a3-4f88-9723-3e3aca1428c0",
   "metadata": {},
   "source": [
    "#### Step 3: Define Functions (Different Instructions)\n",
    "Each region's data will be processed by a different function, representing multiple instructions."
   ]
  },
  {
   "cell_type": "code",
   "execution_count": 11,
   "id": "6f7d16da-6043-46b6-8198-d95cc064c2de",
   "metadata": {},
   "outputs": [],
   "source": [
    "# Task for Region A: Calculate total sales\n",
    "def calculate_total_sales(sales):\n",
    "    print(\"Processing Region A: Calculating Total Sales\")\n",
    "    return sum(sales)\n",
    "\n",
    "# Task for Region B: Find maximum sale\n",
    "def find_max_sale(sales):\n",
    "    print(\"Processing Region B: Finding Maximum Sale\")\n",
    "    return max(sales)\n",
    "\n",
    "# Task for Region C: Calculate average sale\n",
    "def calculate_average_sales(sales):\n",
    "    print(\"Processing Region C: Calculating Average Sales\")\n",
    "    return sum(sales) / len(sales)\n"
   ]
  },
  {
   "cell_type": "markdown",
   "id": "73bf9fd1-9256-4d44-a66f-c561fe9b8a2a",
   "metadata": {},
   "source": [
    "#### Step 4: Implement Parallel Processing (MIMD)\n",
    "Use ThreadPoolExecutor to execute different tasks on different datasets in parallel."
   ]
  },
  {
   "cell_type": "code",
   "execution_count": 14,
   "id": "bc4606e3-0d9a-44b8-b8fa-bb8d69e6f7e0",
   "metadata": {},
   "outputs": [
    {
     "name": "stdout",
     "output_type": "stream",
     "text": [
      "Processing Region A: Calculating Total Sales\n",
      "Processing Region B: Finding Maximum Sale\n",
      "Processing Region C: Calculating Average Sales\n",
      "\n",
      "Results:\n",
      "Total Sales for Region A: 5628\n",
      "Maximum Sale for Region B: 1407\n",
      "Average Sales for Region C: 792.7\n"
     ]
    }
   ],
   "source": [
    "# Create a ThreadPoolExecutor to manage parallel tasks\n",
    "with ThreadPoolExecutor() as executor:\n",
    "    # Submit tasks to the executor\n",
    "    future_a = executor.submit(calculate_total_sales, region_a_sales)\n",
    "    future_b = executor.submit(find_max_sale, region_b_sales)\n",
    "    future_c = executor.submit(calculate_average_sales, region_c_sales)\n",
    "\n",
    "    # Collect results\n",
    "    total_sales_a = future_a.result()\n",
    "    max_sale_b = future_b.result()\n",
    "    average_sales_c = future_c.result()\n",
    "\n",
    "# Print results\n",
    "print(\"\\nResults:\")\n",
    "print(f\"Total Sales for Region A: {total_sales_a}\")\n",
    "print(f\"Maximum Sale for Region B: {max_sale_b}\")\n",
    "print(f\"Average Sales for Region C: {average_sales_c}\")\n"
   ]
  },
  {
   "cell_type": "markdown",
   "id": "5621e795-a62d-4a59-931e-64ceac52d443",
   "metadata": {},
   "source": [
    "#### Step 5: Full Code\n",
    "Here’s the complete annotated code for easy reference:"
   ]
  },
  {
   "cell_type": "code",
   "execution_count": 17,
   "id": "9dec8e56-d791-4fe6-8650-8d81914ef3c6",
   "metadata": {},
   "outputs": [
    {
     "name": "stdout",
     "output_type": "stream",
     "text": [
      "Region A Sales: [923, 519, 561, 778, 529, 713, 176, 530, 173, 276]\n",
      "Region B Sales: [716, 940, 269, 463, 416, 360, 229, 388, 1423, 1288]\n",
      "Region C Sales: [704, 914, 500, 794, 699, 1142, 278, 357, 844, 609]\n",
      "Processing Region A: Calculating Total Sales\n",
      "Processing Region B: Finding Maximum Sale\n",
      "Processing Region C: Calculating Average Sales\n",
      "\n",
      "Results:\n",
      "Total Sales for Region A: 5178\n",
      "Maximum Sale for Region B: 1423\n",
      "Average Sales for Region C: 684.1\n"
     ]
    }
   ],
   "source": [
    "from concurrent.futures import ThreadPoolExecutor\n",
    "import random\n",
    "\n",
    "# Step 1: Generate random sales data for three regions\n",
    "region_a_sales = [random.randint(100, 1000) for _ in range(10)]\n",
    "region_b_sales = [random.randint(50, 1500) for _ in range(10)]\n",
    "region_c_sales = [random.randint(200, 1200) for _ in range(10)]\n",
    "\n",
    "print(\"Region A Sales:\", region_a_sales)\n",
    "print(\"Region B Sales:\", region_b_sales)\n",
    "print(\"Region C Sales:\", region_c_sales)\n",
    "\n",
    "# Step 2: Define tasks for each region\n",
    "def calculate_total_sales(sales):\n",
    "    print(\"Processing Region A: Calculating Total Sales\")\n",
    "    return sum(sales)\n",
    "\n",
    "def find_max_sale(sales):\n",
    "    print(\"Processing Region B: Finding Maximum Sale\")\n",
    "    return max(sales)\n",
    "\n",
    "def calculate_average_sales(sales):\n",
    "    print(\"Processing Region C: Calculating Average Sales\")\n",
    "    return sum(sales) / len(sales)\n",
    "\n",
    "# Step 3: Parallel processing using ThreadPoolExecutor\n",
    "with ThreadPoolExecutor() as executor:\n",
    "    future_a = executor.submit(calculate_total_sales, region_a_sales)\n",
    "    future_b = executor.submit(find_max_sale, region_b_sales)\n",
    "    future_c = executor.submit(calculate_average_sales, region_c_sales)\n",
    "\n",
    "    total_sales_a = future_a.result()\n",
    "    max_sale_b = future_b.result()\n",
    "    average_sales_c = future_c.result()\n",
    "\n",
    "# Step 4: Display results\n",
    "print(\"\\nResults:\")\n",
    "print(f\"Total Sales for Region A: {total_sales_a}\")\n",
    "print(f\"Maximum Sale for Region B: {max_sale_b}\")\n",
    "print(f\"Average Sales for Region C: {average_sales_c}\")\n"
   ]
  },
  {
   "cell_type": "markdown",
   "id": "da968240-1ef2-4e81-86a4-564ca6044db8",
   "metadata": {},
   "source": [
    "### Key Takeaways\n",
    "* Multiple Instructions: Each processor executes a different task (e.g., sum, max, average).\n",
    "* Multiple Data: Each processor works on a different dataset (e.g., Region A, B, C sales).\n",
    "* Parallel Execution: Tasks are executed concurrently, improving performance for independent operations."
   ]
  },
  {
   "cell_type": "code",
   "execution_count": null,
   "id": "58b4c4a8-69d9-4cde-9313-2b69c87a4382",
   "metadata": {},
   "outputs": [],
   "source": []
  }
 ],
 "metadata": {
  "kernelspec": {
   "display_name": "Python 3 (ipykernel)",
   "language": "python",
   "name": "python3"
  },
  "language_info": {
   "codemirror_mode": {
    "name": "ipython",
    "version": 3
   },
   "file_extension": ".py",
   "mimetype": "text/x-python",
   "name": "python",
   "nbconvert_exporter": "python",
   "pygments_lexer": "ipython3",
   "version": "3.12.4"
  }
 },
 "nbformat": 4,
 "nbformat_minor": 5
}
