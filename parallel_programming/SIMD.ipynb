{
 "cells": [
  {
   "cell_type": "markdown",
   "id": "f28e86d7-1a5f-4ded-8091-b742ad31e765",
   "metadata": {},
   "source": [
    "# Single Instruction, Multiple Data (SIMD)"
   ]
  },
  {
   "cell_type": "markdown",
   "id": "96b0eba8-ca90-486a-a09e-54f7b041ae0f",
   "metadata": {},
   "source": [
    "### What is SIMD?\n",
    "\n",
    "SIMD (Single Instruction, Multiple Data) is a parallel computing paradigm where a single instruction is executed on multiple data elements simultaneously. It’s highly efficient for tasks involving repetitive operations on large datasets, such as:\n",
    "\n",
    "* Vectorized mathematical computations\n",
    "* Image transformations\n",
    "* Scientific simulations"
   ]
  },
  {
   "cell_type": "markdown",
   "id": "6b3cfff6-1c1e-42f0-83e6-c15ec608a1fe",
   "metadata": {},
   "source": [
    "### Setup and Import Libraries\n",
    "\n",
    "We’ll use NumPy, a popular library for numerical computing in Python, which inherently supports SIMD-like operations."
   ]
  },
  {
   "cell_type": "code",
   "execution_count": 28,
   "id": "d9a999bc-fd9e-402c-89e8-4188495154ea",
   "metadata": {},
   "outputs": [],
   "source": [
    "import numpy as np\n",
    "import time"
   ]
  },
  {
   "cell_type": "markdown",
   "id": "a2a58daf-31fa-4107-b9ce-83615d1da9bf",
   "metadata": {},
   "source": [
    "### Understanding SIMD Through Example: Element-Wise Operations\n",
    "\n",
    "In a traditional programming approach, element-wise operations are performed sequentially. With SIMD, these operations are applied to entire arrays (or vectors) at once.\n",
    "\n",
    "### Sequential (Non-SIMD) Example\n"
   ]
  },
  {
   "cell_type": "code",
   "execution_count": 11,
   "id": "e64a53c8-3117-40f3-8ba8-8b362c6af936",
   "metadata": {},
   "outputs": [
    {
     "name": "stdout",
     "output_type": "stream",
     "text": [
      "Sequential Result: [6, 8, 10, 12]\n"
     ]
    }
   ],
   "source": [
    "# Define two lists of numbers\n",
    "data1 = [1, 2, 3, 4]\n",
    "data2 = [5, 6, 7, 8]\n",
    "\n",
    "# Initialize an empty list to store results\n",
    "result = []\n",
    "\n",
    "# Perform element-wise addition sequentially\n",
    "for i in range(len(data1)):\n",
    "    result.append(data1[i] + data2[i])\n",
    "\n",
    "print(\"Sequential Result:\", result)\n"
   ]
  },
  {
   "cell_type": "markdown",
   "id": "e87a1e30-a199-4d24-8eb6-08029f69eadf",
   "metadata": {},
   "source": [
    "### SIMD Example Using NumPy"
   ]
  },
  {
   "cell_type": "code",
   "execution_count": 14,
   "id": "34522719-7f71-4604-949a-409aadfff995",
   "metadata": {},
   "outputs": [
    {
     "name": "stdout",
     "output_type": "stream",
     "text": [
      "SIMD Result: [ 6  8 10 12]\n"
     ]
    }
   ],
   "source": [
    "# Convert lists to NumPy arrays\n",
    "data1_np = np.array([1, 2, 3, 4])\n",
    "data2_np = np.array([5, 6, 7, 8])\n",
    "\n",
    "# Perform element-wise addition in one step\n",
    "result_simd = data1_np + data2_np\n",
    "\n",
    "print(\"SIMD Result:\", result_simd)\n"
   ]
  },
  {
   "cell_type": "markdown",
   "id": "ed090d53-0574-47c0-8496-f46db740996b",
   "metadata": {},
   "source": [
    "### SIMD in Action: A Larger Dataset\n",
    "\n",
    "Let's see how SIMD can handle larger datasets more efficiently than sequential operations.\n",
    "\n",
    "#### Generating a Large Dataset"
   ]
  },
  {
   "cell_type": "code",
   "execution_count": 21,
   "id": "35515a17-712f-418c-a2f8-aed74cc2fd45",
   "metadata": {},
   "outputs": [],
   "source": [
    "# Generate two large datasets with 1,000,000 elements each\n",
    "large_data1 = np.random.rand(1000000)\n",
    "large_data2 = np.random.rand(1000000)"
   ]
  },
  {
   "cell_type": "markdown",
   "id": "587c50d5-cd17-4dbb-abec-fdfd5e9b5baf",
   "metadata": {},
   "source": [
    "#### Sequential Addition"
   ]
  },
  {
   "cell_type": "code",
   "execution_count": 26,
   "id": "0dc9f0fb-23e3-4f61-b4f2-faa1d4d37605",
   "metadata": {},
   "outputs": [
    {
     "name": "stdout",
     "output_type": "stream",
     "text": [
      "Time taken for sequential addition: 0.14383506774902344 seconds\n"
     ]
    }
   ],
   "source": [
    "# Sequential addition\n",
    "start = time.time()\n",
    "sequential_result = [large_data1[i] + large_data2[i] for i in range(len(large_data1))]\n",
    "end = time.time()\n",
    "print(\"Time taken for sequential addition:\", end - start, \"seconds\")"
   ]
  },
  {
   "cell_type": "markdown",
   "id": "215b06d3-3494-4009-b0ed-cbec0ee71a7f",
   "metadata": {},
   "source": [
    "#### SIMD Addition"
   ]
  },
  {
   "cell_type": "code",
   "execution_count": 31,
   "id": "8de0bf0e-84c6-424d-97be-4b5bdf09a051",
   "metadata": {},
   "outputs": [
    {
     "name": "stdout",
     "output_type": "stream",
     "text": [
      "Time taken for SIMD addition: 0.004258871078491211 seconds\n"
     ]
    }
   ],
   "source": [
    "# SIMD addition using NumPy\n",
    "start = time.time()\n",
    "simd_result = large_data1 + large_data2\n",
    "end = time.time()\n",
    "print(\"Time taken for SIMD addition:\", end - start, \"seconds\")\n"
   ]
  },
  {
   "cell_type": "markdown",
   "id": "26178388-6551-4686-afd9-451e55d8121d",
   "metadata": {},
   "source": [
    "### SIMD for Data Transformation\n",
    "\n",
    "Let’s apply a mathematical transformation (e.g., square root) to all elements in a dataset.\n",
    "\n",
    "#### Sequential Transformation"
   ]
  },
  {
   "cell_type": "code",
   "execution_count": 35,
   "id": "d05c7d7a-1891-40af-9bd4-246a58568c4c",
   "metadata": {},
   "outputs": [
    {
     "name": "stdout",
     "output_type": "stream",
     "text": [
      "Time taken for sequential transformation: 0.09178519248962402 seconds\n"
     ]
    }
   ],
   "source": [
    "# Sequential square root transformation\n",
    "start = time.time()\n",
    "sequential_transformed = [x**0.5 for x in large_data1]\n",
    "end = time.time()\n",
    "print(\"Time taken for sequential transformation:\", end - start, \"seconds\")\n"
   ]
  },
  {
   "cell_type": "markdown",
   "id": "2a8e08d0-7d05-4ab2-828e-fc7b70490779",
   "metadata": {},
   "source": [
    "#### SIMD Transformation"
   ]
  },
  {
   "cell_type": "code",
   "execution_count": 38,
   "id": "766deee1-fa4f-4a8b-9689-1a8fa6e234eb",
   "metadata": {},
   "outputs": [
    {
     "name": "stdout",
     "output_type": "stream",
     "text": [
      "Time taken for SIMD transformation: 0.00347900390625 seconds\n"
     ]
    }
   ],
   "source": [
    "# SIMD square root transformation using NumPy\n",
    "start = time.time()\n",
    "simd_transformed = np.sqrt(large_data1)\n",
    "end = time.time()\n",
    "print(\"Time taken for SIMD transformation:\", end - start, \"seconds\")\n"
   ]
  },
  {
   "cell_type": "markdown",
   "id": "f250b375-dc97-4ac0-a54c-2b5f6fe4688d",
   "metadata": {},
   "source": [
    "### Comparison of Results"
   ]
  },
  {
   "cell_type": "code",
   "execution_count": 41,
   "id": "f85e7fad-5f02-4129-9349-059ad5152c8a",
   "metadata": {},
   "outputs": [
    {
     "name": "stdout",
     "output_type": "stream",
     "text": [
      "Do SIMD and sequential results match? (Addition): True\n",
      "Do SIMD and sequential results match? (Transformation): True\n"
     ]
    }
   ],
   "source": [
    "# Check if the SIMD and sequential results match\n",
    "print(\"Do SIMD and sequential results match? (Addition):\", np.allclose(simd_result, sequential_result))\n",
    "print(\"Do SIMD and sequential results match? (Transformation):\", np.allclose(simd_transformed, sequential_transformed))\n"
   ]
  },
  {
   "cell_type": "markdown",
   "id": "c7acd90a-b9ad-4638-846b-dbe6dc8f1048",
   "metadata": {},
   "source": [
    "### Performance Insights\n",
    "\n",
    "SIMD significantly reduces the computation time by leveraging parallelism at the hardware level. This makes it ideal for cloud computing applications where large datasets are processed.\n",
    "\n",
    "### Applications of SIMD in Cloud Computing\n",
    "* **Image Processing**: Applying filters or transformations to millions of pixels.\n",
    "* **Machine Learning**: Performing matrix multiplications for training models.\n",
    "* **Financial Analysis**: Computing statistics over large datasets in real-time.\n",
    "* **Scientific Simulations**: Modeling complex systems like weather or particle physics.\n",
    "\n",
    "  "
   ]
  },
  {
   "cell_type": "markdown",
   "id": "0c877772-3f55-40ae-9193-a7745404b884",
   "metadata": {},
   "source": [
    "## SIMD Without Python Libraries\n",
    "\n",
    "### Example: Vector Addition\n",
    "\n",
    "We'll perform element-wise addition of two lists to demonstrate SIMD. Without libraries (such as numpy), we'll use manual iteration to simulate sequential processing and list comprehensions to mimic SIMD."
   ]
  },
  {
   "cell_type": "markdown",
   "id": "bbc0ef10-dba0-41f4-b047-3a006784d1f8",
   "metadata": {},
   "source": [
    "#### Step 1: Define the Data"
   ]
  },
  {
   "cell_type": "code",
   "execution_count": 48,
   "id": "f5ad01d4-0a22-493d-916d-35de19f221ad",
   "metadata": {},
   "outputs": [],
   "source": [
    "# Define two lists of numbers\n",
    "vector_a = [1, 2, 3, 4]\n",
    "vector_b = [5, 6, 7, 8]"
   ]
  },
  {
   "cell_type": "markdown",
   "id": "8d2740d6-ded2-4a82-85c3-7e2fad145388",
   "metadata": {},
   "source": [
    "#### Step 2: Sequential Processing\n",
    "\n",
    "In the sequential approach, we process each element one at a time."
   ]
  },
  {
   "cell_type": "code",
   "execution_count": 51,
   "id": "548d1057-e762-411e-ba59-1293b3b0b7fc",
   "metadata": {},
   "outputs": [
    {
     "name": "stdout",
     "output_type": "stream",
     "text": [
      "Sequential Result: [6, 8, 10, 12]\n"
     ]
    }
   ],
   "source": [
    "# Sequential addition\n",
    "result_sequential = []\n",
    "\n",
    "# Add corresponding elements one at a time\n",
    "for i in range(len(vector_a)):\n",
    "    result_sequential.append(vector_a[i] + vector_b[i])\n",
    "\n",
    "print(\"Sequential Result:\", result_sequential)\n"
   ]
  },
  {
   "cell_type": "markdown",
   "id": "fb1307b5-8628-43aa-bb3f-886e55b0f687",
   "metadata": {},
   "source": [
    "#### Step 3: SIMD-Like Processing with List Comprehensions\n",
    "\n",
    "Here, we'll mimic SIMD by applying the addition operation to all elements simultaneously using a list comprehension."
   ]
  },
  {
   "cell_type": "code",
   "execution_count": 54,
   "id": "2c5c4cbc-2260-4cfe-8faa-485c3affd3c0",
   "metadata": {},
   "outputs": [
    {
     "name": "stdout",
     "output_type": "stream",
     "text": [
      "SIMD Result: [6, 8, 10, 12]\n"
     ]
    }
   ],
   "source": [
    "# SIMD-like processing using list comprehension\n",
    "result_simd = [a + b for a, b in zip(vector_a, vector_b)]\n",
    "\n",
    "print(\"SIMD Result:\", result_simd)\n"
   ]
  },
  {
   "cell_type": "markdown",
   "id": "f0943b62-0666-4c9b-b4f6-a92a54791456",
   "metadata": {},
   "source": [
    "### Larger Dataset\n",
    "\n",
    "Let’s apply the same concept to a larger dataset to highlight SIMD’s efficiency.\n",
    "\n",
    "#### Generate Data"
   ]
  },
  {
   "cell_type": "code",
   "execution_count": 58,
   "id": "61119377-0f12-4e6b-b639-59baeff93dd7",
   "metadata": {},
   "outputs": [],
   "source": [
    "import random\n",
    "\n",
    "# Generate large vectors with 1,000,000 elements\n",
    "large_vector_a = [random.randint(1, 100) for _ in range(1000000)]\n",
    "large_vector_b = [random.randint(1, 100) for _ in range(1000000)]\n"
   ]
  },
  {
   "cell_type": "markdown",
   "id": "ed319c1a-9009-49a8-911c-e4049808a923",
   "metadata": {},
   "source": [
    "#### Sequential Processing"
   ]
  },
  {
   "cell_type": "code",
   "execution_count": 61,
   "id": "d52b4752-1105-4f8e-9475-50931c5e805e",
   "metadata": {},
   "outputs": [
    {
     "name": "stdout",
     "output_type": "stream",
     "text": [
      "Time taken for sequential processing: 0.08382892608642578 seconds\n"
     ]
    }
   ],
   "source": [
    "import time\n",
    "\n",
    "# Sequential addition\n",
    "start_time = time.time()\n",
    "result_sequential_large = []\n",
    "for i in range(len(large_vector_a)):\n",
    "    result_sequential_large.append(large_vector_a[i] + large_vector_b[i])\n",
    "end_time = time.time()\n",
    "\n",
    "print(\"Time taken for sequential processing:\", end_time - start_time, \"seconds\")\n"
   ]
  },
  {
   "cell_type": "markdown",
   "id": "21c7fdf0-8733-4474-8690-de222ae6540e",
   "metadata": {},
   "source": [
    "#### SIMD-Like Processing"
   ]
  },
  {
   "cell_type": "code",
   "execution_count": 64,
   "id": "40c51325-5df7-4bb2-8566-de4baea235e2",
   "metadata": {},
   "outputs": [
    {
     "name": "stdout",
     "output_type": "stream",
     "text": [
      "Time taken for SIMD-like processing: 0.039871931076049805 seconds\n"
     ]
    }
   ],
   "source": [
    "# SIMD-like addition using list comprehension\n",
    "start_time = time.time()\n",
    "result_simd_large = [a + b for a, b in zip(large_vector_a, large_vector_b)]\n",
    "end_time = time.time()\n",
    "\n",
    "print(\"Time taken for SIMD-like processing:\", end_time - start_time, \"seconds\")\n"
   ]
  },
  {
   "cell_type": "markdown",
   "id": "33b5c352-ef87-4033-a1df-490c1c40c91c",
   "metadata": {},
   "source": [
    "### Key Differences\n",
    "\n",
    "**Sequential Approach**:\n",
    "* Processes each element individually in a loop.\n",
    "* Slower for large datasets due to lack of parallelism.\n",
    "\n",
    "**SIMD-Like Approach**:\n",
    "* Operates on all elements simultaneously using list comprehensions.\n",
    "* Faster and more efficient for larger datasets."
   ]
  },
  {
   "cell_type": "code",
   "execution_count": null,
   "id": "a7f3f5a2-873a-4dfa-b9a6-0d32aeeae21f",
   "metadata": {},
   "outputs": [],
   "source": []
  }
 ],
 "metadata": {
  "kernelspec": {
   "display_name": "Python 3 (ipykernel)",
   "language": "python",
   "name": "python3"
  },
  "language_info": {
   "codemirror_mode": {
    "name": "ipython",
    "version": 3
   },
   "file_extension": ".py",
   "mimetype": "text/x-python",
   "name": "python",
   "nbconvert_exporter": "python",
   "pygments_lexer": "ipython3",
   "version": "3.12.4"
  }
 },
 "nbformat": 4,
 "nbformat_minor": 5
}
