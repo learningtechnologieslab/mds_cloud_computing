{
 "cells": [
  {
   "cell_type": "markdown",
   "id": "308a5d34-f35f-4424-9acd-4fb2de3ec571",
   "metadata": {},
   "source": [
    "### RESTful API Tutorial\n",
    "\n",
    "In this tutorial, we’ll walk through a simple Python script that uses the New York Times (NYT) Article Search RESTful API to retrieve news articles. This script illustrates key concepts of working with REST APIs, including forming requests, handling responses, and parsing JSON data."
   ]
  },
  {
   "cell_type": "markdown",
   "id": "63ee3d51-a0c7-49a6-bf8d-f2248bf7e756",
   "metadata": {},
   "source": [
    "**Step 1: Importing the Required Library**\n",
    "\n",
    "We start by importing the requests library — a powerful, user-friendly Python module for sending HTTP requests. This is how we'll communicate with the NYT's RESTful API over the web."
   ]
  },
  {
   "cell_type": "code",
   "execution_count": 12,
   "id": "aab15891-e53e-40cd-8942-32c05e1df0f5",
   "metadata": {},
   "outputs": [],
   "source": [
    "import requests"
   ]
  },
  {
   "cell_type": "markdown",
   "id": "295c28b5-10b0-427d-887b-f4535ce2f5f6",
   "metadata": {},
   "source": [
    "**Step 2: Setting Up the Endpoint and API Key**\n",
    "\n",
    "* api_key = 'YOUR_API_KEY'\n",
    "* url = 'https://api.nytimes.com/svc/search/v2/articlesearch.json'\n",
    "\n",
    "Here, we define two key pieces:\n",
    "* **api_key**: This is a unique identifier that authenticates us with the NYT API. You'll need to sign up on their developer portal to get one (https://developer.nytimes.com/).\n",
    "* **url**: This is the endpoint for the Article Search API. It's the URL we will be sending our GET request to."
   ]
  },
  {
   "cell_type": "code",
   "execution_count": 14,
   "id": "0337e766-bf32-484a-96ca-f4273dfd496f",
   "metadata": {},
   "outputs": [],
   "source": [
    "# Set the API endpoint and your API key\n",
    "api_key = 'YOUR API KEY'\n",
    "url = 'https://api.nytimes.com/svc/search/v2/articlesearch.json'\n"
   ]
  },
  {
   "cell_type": "markdown",
   "id": "9b516cab-2f33-489d-9f0d-4c2eeb8f8674",
   "metadata": {},
   "source": [
    "**Step 3: Defining Request Parameters**\n",
    "\n",
    "This dictionary holds query parameters for our request:\n",
    "* \"api-key\": Required for access.\n",
    "* \"q\": The query term — in this case, we’re searching for articles that mention “election”.\n",
    "\n",
    "The NYT API supports many additional parameters (like date range, filters, and pagination), but we’re keeping it simple for now."
   ]
  },
  {
   "cell_type": "code",
   "execution_count": 16,
   "id": "44f7fb82-81b7-42e1-8120-0b25cb783831",
   "metadata": {},
   "outputs": [],
   "source": [
    "# Parameters for the API request\n",
    "params = {\n",
    "    \"api-key\" : api_key,\n",
    "    \"q\" : \"generative ai\"\n",
    "}\n"
   ]
  },
  {
   "cell_type": "markdown",
   "id": "088e1fa3-b3bd-40f1-abe8-b670600e3c80",
   "metadata": {},
   "source": [
    "**Step 4: Sending the GET Request**\n",
    "\n",
    "This line sends the actual HTTP GET request to the NYT API. It attaches the parameters as part of the query string in the URL. The response is stored in the variable _response_."
   ]
  },
  {
   "cell_type": "code",
   "execution_count": 18,
   "id": "3422716a-e119-4ba9-9fde-8edbecf13bd2",
   "metadata": {},
   "outputs": [],
   "source": [
    "# Send a GET request to the NYT API\n",
    "response = requests.get(url, params=params)"
   ]
  },
  {
   "cell_type": "markdown",
   "id": "c3443b3b-a9a7-4fd3-a71a-c90c7ac860da",
   "metadata": {},
   "source": [
    "**Step 5: Handling the Response**\n",
    "\n",
    "Here’s where we handle the response:\n",
    "* We first check the status code. 200 means OK — the request was successful.\n",
    "* We convert the JSON response into a Python dictionary using response.json().\n",
    "* We then loop through the returned articles, which are found in data['response']['docs'].\n",
    "* For each article, we print its headline (the main field under headline).\n",
    "* If the request fails (for example, due to a wrong API key or server error), we print the error status."
   ]
  },
  {
   "cell_type": "code",
   "execution_count": 20,
   "id": "b2c70ee2-b62d-4a89-8fba-47c45e1657fd",
   "metadata": {},
   "outputs": [
    {
     "name": "stdout",
     "output_type": "stream",
     "text": [
      "Amazon Unveils Alexa+, Powered by Generative A.I.\n",
      "In Constant Battle With Insurers, Doctors Reach for a Cudgel: A.I.\n",
      "When the Terms of Service Change to Make Way for A.I. Training\n",
      "I Took a ‘Decision Holiday’ and Put A.I. in Charge of My Life\n",
      "Generative A.I. Can Add $4.4 Trillion in Value to Global Economy, Study Says\n",
      "Generative A.I. Start-Up Cohere Valued at About $2 Billion in Funding Round\n",
      "The Push to Develop Generative A.I. Without All the Lawsuits\n",
      "When A.I. Passes This Test, Look Out\n",
      "How Generative A.I. Complements the MAGA Style\n",
      "An A.I. Granny Is Phone Scammers’ Worst Nightmare\n"
     ]
    }
   ],
   "source": [
    "# Check if the request was successful\n",
    "if response.status_code == 200:\n",
    "    data = response.json()\n",
    "    # Extract and print article titles and URLs\n",
    "    for article in data['response']['docs']:\n",
    "        print(article['headline']['main'])\n",
    "else:\n",
    "    print(f\"Failed to retrieve data: {response.status_code}\")\n"
   ]
  },
  {
   "cell_type": "code",
   "execution_count": null,
   "id": "684d8247-e69a-4bd9-afee-38843e2dab4b",
   "metadata": {},
   "outputs": [],
   "source": []
  },
  {
   "cell_type": "code",
   "execution_count": null,
   "id": "31608122-3dee-40dd-98d5-6eacdb6985f4",
   "metadata": {},
   "outputs": [],
   "source": []
  }
 ],
 "metadata": {
  "kernelspec": {
   "display_name": "Python 3 (ipykernel)",
   "language": "python",
   "name": "python3"
  },
  "language_info": {
   "codemirror_mode": {
    "name": "ipython",
    "version": 3
   },
   "file_extension": ".py",
   "mimetype": "text/x-python",
   "name": "python",
   "nbconvert_exporter": "python",
   "pygments_lexer": "ipython3",
   "version": "3.12.4"
  }
 },
 "nbformat": 4,
 "nbformat_minor": 5
}
