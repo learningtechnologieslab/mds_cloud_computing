{
 "cells": [
  {
   "cell_type": "markdown",
   "metadata": {},
   "source": [
    "## OpenWeatherMap Example\n",
    "\n",
    "This is an example of how you can use Python to access RESTful API. In this particular example we will access data from OpenWeatherMap and parse it for future use/analysis using a combination of JSON and Python dictionaries.\n",
    "\n",
    "This tutorial is based on a GeeksForGeeks OpenWeatherMap tutorial - you can find the original tutorial here: https://www.geeksforgeeks.org/python-find-current-weather-of-any-city-using-openweathermap-api/\n",
    "\n",
    "In order for you to use this tutorial, you need to obtain an OpenWeatherMap API key:\n",
    "1. Go to https://home.openweathermap.org/users/sign_in\n",
    "2. Create an account\n",
    "3. Sign in\n",
    "4. Once you sign in, click on \"API Keys\" link\n",
    "5. Generate a new API key\n",
    "6. Copy your new API key and paste it into the block below (where the comment says \"Enter your API key here\")\n",
    "\n",
    "For now, this example is using the instructor's API key - please replace it with your own if you are planning on experimenting with this code"
   ]
  },
  {
   "cell_type": "markdown",
   "metadata": {},
   "source": [
    "**Part 1: Importing Python Libraries**\n",
    "* _requests_: requests is the main library we use to make HTTP requests.\n",
    "* _json_: json helps us parse and manipulate the JSON responses we get back.\n",
    "\n",
    "This is typical when interacting with RESTful APIs in Python."
   ]
  },
  {
   "cell_type": "code",
   "execution_count": 2,
   "metadata": {},
   "outputs": [],
   "source": [
    "# import required modules \n",
    "import requests, json "
   ]
  },
  {
   "cell_type": "markdown",
   "metadata": {},
   "source": [
    "**Part 2: The API Key**\n",
    "\n",
    "OpenWeatherMap requires authentication via an API key. You need to sign up on their platform to get this key. Think of it as a password that tells the API, \"This user has permission to use the service.\"\n",
    "\n",
    "This key will be sent along with every request.\n",
    "\n"
   ]
  },
  {
   "cell_type": "code",
   "execution_count": 4,
   "metadata": {},
   "outputs": [],
   "source": [
    "# Enter your API key here \n",
    "api_key = \"Your_API_Key\"\n",
    "  \n",
    "# base_url variable to store url \n",
    "base_url = \"http://api.openweathermap.org/data/2.5/weather?\""
   ]
  },
  {
   "cell_type": "markdown",
   "metadata": {},
   "source": [
    "**Part 3: Constructing the API Request**\n",
    "\n",
    "Let’s break this down:\n",
    "* _base_url_ is the endpoint for the current weather data.\n",
    "* We use query parameters:\n",
    "    * _q=city_name_ to specify the location.\n",
    "    * _appid=API_KEY_ to authenticate.\n",
    "    * _units=metric_ so that temperatures are returned in Celsius.\n",
    "* The final URL looks like a regular web address and can be tested in a browser too!\n",
    "\n"
   ]
  },
  {
   "cell_type": "code",
   "execution_count": 12,
   "metadata": {},
   "outputs": [
    {
     "name": "stdin",
     "output_type": "stream",
     "text": [
      "Enter city name :  Pittsburgh\n"
     ]
    },
    {
     "name": "stdout",
     "output_type": "stream",
     "text": [
      "http://api.openweathermap.org/data/2.5/weather?appid=bd90de086e09bf23d749d5f2243c3b06&q=Pittsburgh\n"
     ]
    }
   ],
   "source": [
    "# Provide city name \n",
    "city_name = input(\"Enter city name : \") \n",
    "  \n",
    "# complete_url variable to store \n",
    "# complete url address \n",
    "complete_url = base_url + \"appid=\" + api_key + \"&q=\" + city_name \n",
    "\n",
    "print(complete_url)\n",
    "# get method of requests module \n",
    "# return response object \n",
    "response = requests.get(complete_url) \n",
    "  \n",
    "# json method of response object  \n",
    "# convert json format data into \n",
    "# python format data \n",
    "data = response.json() "
   ]
  },
  {
   "cell_type": "code",
   "execution_count": 14,
   "metadata": {},
   "outputs": [
    {
     "name": "stdout",
     "output_type": "stream",
     "text": [
      "{'coord': {'lon': -79.9959, 'lat': 40.4406}, 'weather': [{'id': 800, 'main': 'Clear', 'description': 'clear sky', 'icon': '01d'}], 'base': 'stations', 'main': {'temp': 289.28, 'feels_like': 288.1, 'temp_min': 287.95, 'temp_max': 290.37, 'pressure': 1016, 'humidity': 44, 'sea_level': 1016, 'grnd_level': 979}, 'visibility': 10000, 'wind': {'speed': 4.02, 'deg': 348, 'gust': 4.92}, 'clouds': {'all': 1}, 'dt': 1728512150, 'sys': {'type': 2, 'id': 2034219, 'country': 'US', 'sunrise': 1728473092, 'sunset': 1728514142}, 'timezone': -14400, 'id': 5206379, 'name': 'Pittsburgh', 'cod': 200}\n"
     ]
    }
   ],
   "source": [
    "# Let's take a look at what our data looks like:\n",
    "print(data)"
   ]
  },
  {
   "cell_type": "markdown",
   "metadata": {},
   "source": [
    "**Part 4: Parsing the JSON Response**\n",
    "\n",
    "* The response is in JSON format, so we decode it like this: _data = response.json()_\n",
    "* Once parsed, data becomes a Python dictionary. We can now extract specific values using dictionary keys."
   ]
  },
  {
   "cell_type": "code",
   "execution_count": 16,
   "metadata": {},
   "outputs": [
    {
     "name": "stdout",
     "output_type": "stream",
     "text": [
      "Temperature (in kelvin unit): 289.28\n",
      "Temperature (in F. unit):  61.03399999999999\n",
      "Atmospheric pressure (in hPa unit): 1016\n",
      "Humidity (in percentage): 44\n",
      "Description: clear sky\n"
     ]
    }
   ],
   "source": [
    "# Now data contains list of nested dictionaries \n",
    "# Check the value of \"cod\" key is equal to \n",
    "# \"404\", means city is found otherwise, \n",
    "# city is not found \n",
    "if data[\"cod\"] != \"404\": \n",
    "    # store the value of \"main\" \n",
    "    # key in variable y \n",
    "    main_data = data[\"main\"] \n",
    "  \n",
    "    # store the value corresponding \n",
    "    # to the \"temp\" key of  main_data\n",
    "    current_temperature = main_data[\"temp\"] \n",
    "  \n",
    "    # store the value corresponding \n",
    "    # to the \"pressure\" key of main_data \n",
    "    current_pressure = main_data[\"pressure\"] \n",
    "  \n",
    "    # store the value corresponding \n",
    "    # to the \"humidity\" key of main_data \n",
    "    current_humidiy = main_data[\"humidity\"] \n",
    "  \n",
    "    # store the value of \"weather\" \n",
    "    # key in variable weather\n",
    "    weather = data[\"weather\"] \n",
    "  \n",
    "    # store the value corresponding  \n",
    "    # to the \"description\" key at  \n",
    "    # the 0th index of weather\n",
    "    weather_description = weather[0][\"description\"] \n",
    "  \n",
    "    # print following values \n",
    "    print(\"Temperature (in kelvin unit): \" + str(current_temperature))\n",
    "    print(\"Temperature (in F. unit): \", (float(current_temperature) - 273.15) * 9/5 + 32)\n",
    "    print(\"Atmospheric pressure (in hPa unit): \" + str(current_pressure))\n",
    "    print(\"Humidity (in percentage): \" + str(current_humidiy))\n",
    "    print(\"Description: \" + str(weather_description))\n",
    "else: \n",
    "    print(\" City Not Found \") "
   ]
  },
  {
   "cell_type": "code",
   "execution_count": null,
   "metadata": {},
   "outputs": [],
   "source": []
  },
  {
   "cell_type": "code",
   "execution_count": null,
   "metadata": {},
   "outputs": [],
   "source": []
  }
 ],
 "metadata": {
  "kernelspec": {
   "display_name": "Python 3 (ipykernel)",
   "language": "python",
   "name": "python3"
  },
  "language_info": {
   "codemirror_mode": {
    "name": "ipython",
    "version": 3
   },
   "file_extension": ".py",
   "mimetype": "text/x-python",
   "name": "python",
   "nbconvert_exporter": "python",
   "pygments_lexer": "ipython3",
   "version": "3.12.4"
  }
 },
 "nbformat": 4,
 "nbformat_minor": 4
}
