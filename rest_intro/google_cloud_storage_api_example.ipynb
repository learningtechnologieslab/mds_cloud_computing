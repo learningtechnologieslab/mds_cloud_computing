{
 "cells": [
  {
   "cell_type": "markdown",
   "id": "159f0d23-aa69-4dd1-b278-76696dea62e7",
   "metadata": {},
   "source": [
    "### Prerequisites\n",
    "\n",
    "* Google Cloud Account: Make sure you have a Google Cloud account and a project set up (https://console.cloud.google.com/).\n",
    "* Enable the Google Cloud Storage API: https://console.cloud.google.com/flows/enableapi?apiid=storage.googleapis.com\n",
    "* Create a service account with Storage Admin permissions and download the JSON key file\n",
    "* Install Python and required libraries."
   ]
  },
  {
   "cell_type": "markdown",
   "id": "475ec99b-1f53-4156-b282-4c1a640d05bf",
   "metadata": {},
   "source": [
    "### Step 1: Install the google-cloud-storage Library\n",
    "* You should install this library in your Python virtual environment\n",
    "    * source ./venv/bin/activate\n",
    "    * ./venv/bin/pip install google-cloud-storage\n",
    "* If your virtual environment has already been activated and running, simply run the following command: _pip install google-cloud-storage_"
   ]
  },
  {
   "cell_type": "code",
   "execution_count": null,
   "id": "963abb2c",
   "metadata": {},
   "outputs": [
    {
     "name": "stdout",
     "output_type": "stream",
     "text": [
      "Collecting google-cloud-storage\n",
      "  Using cached google_cloud_storage-3.1.0-py2.py3-none-any.whl.metadata (12 kB)\n",
      "Collecting google-auth<3.0dev,>=2.26.1 (from google-cloud-storage)\n",
      "  Downloading google_auth-2.39.0-py2.py3-none-any.whl.metadata (6.2 kB)\n",
      "Collecting google-api-core<3.0.0dev,>=2.15.0 (from google-cloud-storage)\n",
      "  Using cached google_api_core-2.24.2-py3-none-any.whl.metadata (3.0 kB)\n",
      "Collecting google-cloud-core<3.0dev,>=2.4.2 (from google-cloud-storage)\n",
      "  Using cached google_cloud_core-2.4.3-py2.py3-none-any.whl.metadata (2.7 kB)\n",
      "Collecting google-resumable-media>=2.7.2 (from google-cloud-storage)\n",
      "  Using cached google_resumable_media-2.7.2-py2.py3-none-any.whl.metadata (2.2 kB)\n",
      "Requirement already satisfied: requests<3.0.0dev,>=2.18.0 in /opt/anaconda3/lib/python3.12/site-packages (from google-cloud-storage) (2.32.2)\n",
      "Collecting google-crc32c<2.0dev,>=1.0 (from google-cloud-storage)\n",
      "  Downloading google_crc32c-1.7.1-cp312-cp312-macosx_12_0_arm64.whl.metadata (2.3 kB)\n",
      "Collecting googleapis-common-protos<2.0.0,>=1.56.2 (from google-api-core<3.0.0dev,>=2.15.0->google-cloud-storage)\n",
      "  Downloading googleapis_common_protos-1.70.0-py3-none-any.whl.metadata (9.3 kB)\n",
      "Requirement already satisfied: protobuf!=3.20.0,!=3.20.1,!=4.21.0,!=4.21.1,!=4.21.2,!=4.21.3,!=4.21.4,!=4.21.5,<7.0.0,>=3.19.5 in /opt/anaconda3/lib/python3.12/site-packages (from google-api-core<3.0.0dev,>=2.15.0->google-cloud-storage) (3.20.3)\n",
      "Collecting proto-plus<2.0.0,>=1.22.3 (from google-api-core<3.0.0dev,>=2.15.0->google-cloud-storage)\n",
      "  Using cached proto_plus-1.26.1-py3-none-any.whl.metadata (2.2 kB)\n",
      "Requirement already satisfied: cachetools<6.0,>=2.0.0 in /opt/anaconda3/lib/python3.12/site-packages (from google-auth<3.0dev,>=2.26.1->google-cloud-storage) (5.3.3)\n",
      "Requirement already satisfied: pyasn1-modules>=0.2.1 in /opt/anaconda3/lib/python3.12/site-packages (from google-auth<3.0dev,>=2.26.1->google-cloud-storage) (0.2.8)\n",
      "Collecting rsa<5,>=3.1.4 (from google-auth<3.0dev,>=2.26.1->google-cloud-storage)\n",
      "  Downloading rsa-4.9.1-py3-none-any.whl.metadata (5.6 kB)\n",
      "Requirement already satisfied: charset-normalizer<4,>=2 in /opt/anaconda3/lib/python3.12/site-packages (from requests<3.0.0dev,>=2.18.0->google-cloud-storage) (2.0.4)\n",
      "Requirement already satisfied: idna<4,>=2.5 in /opt/anaconda3/lib/python3.12/site-packages (from requests<3.0.0dev,>=2.18.0->google-cloud-storage) (3.7)\n",
      "Requirement already satisfied: urllib3<3,>=1.21.1 in /opt/anaconda3/lib/python3.12/site-packages (from requests<3.0.0dev,>=2.18.0->google-cloud-storage) (2.2.2)\n",
      "Requirement already satisfied: certifi>=2017.4.17 in /opt/anaconda3/lib/python3.12/site-packages (from requests<3.0.0dev,>=2.18.0->google-cloud-storage) (2024.8.30)\n",
      "Requirement already satisfied: pyasn1<0.5.0,>=0.4.6 in /opt/anaconda3/lib/python3.12/site-packages (from pyasn1-modules>=0.2.1->google-auth<3.0dev,>=2.26.1->google-cloud-storage) (0.4.8)\n",
      "Using cached google_cloud_storage-3.1.0-py2.py3-none-any.whl (174 kB)\n",
      "Using cached google_api_core-2.24.2-py3-none-any.whl (160 kB)\n",
      "Downloading google_auth-2.39.0-py2.py3-none-any.whl (212 kB)\n",
      "\u001b[2K   \u001b[90m━━━━━━━━━━━━━━━━━━━━━━━━━━━━━━━━━━━━━━━━\u001b[0m \u001b[32m212.3/212.3 kB\u001b[0m \u001b[31m4.1 MB/s\u001b[0m eta \u001b[36m0:00:00\u001b[0ma \u001b[36m0:00:01\u001b[0m\n",
      "\u001b[?25hUsing cached google_cloud_core-2.4.3-py2.py3-none-any.whl (29 kB)\n",
      "Downloading google_crc32c-1.7.1-cp312-cp312-macosx_12_0_arm64.whl (30 kB)\n",
      "Using cached google_resumable_media-2.7.2-py2.py3-none-any.whl (81 kB)\n",
      "Downloading googleapis_common_protos-1.70.0-py3-none-any.whl (294 kB)\n",
      "\u001b[2K   \u001b[90m━━━━━━━━━━━━━━━━━━━━━━━━━━━━━━━━━━━━━━━━\u001b[0m \u001b[32m294.5/294.5 kB\u001b[0m \u001b[31m10.9 MB/s\u001b[0m eta \u001b[36m0:00:00\u001b[0m\n",
      "\u001b[?25hUsing cached proto_plus-1.26.1-py3-none-any.whl (50 kB)\n",
      "Downloading rsa-4.9.1-py3-none-any.whl (34 kB)\n",
      "Installing collected packages: rsa, proto-plus, googleapis-common-protos, google-crc32c, google-resumable-media, google-auth, google-api-core, google-cloud-core, google-cloud-storage\n",
      "Successfully installed google-api-core-2.24.2 google-auth-2.39.0 google-cloud-core-2.4.3 google-cloud-storage-3.1.0 google-crc32c-1.7.1 google-resumable-media-2.7.2 googleapis-common-protos-1.70.0 proto-plus-1.26.1 rsa-4.9.1\n",
      "Note: you may need to restart the kernel to use updated packages.\n"
     ]
    }
   ],
   "source": [
    "! pip install google-cloud-storage\n"
   ]
  },
  {
   "cell_type": "markdown",
   "id": "015f63b9-1475-4d8e-aa2b-c97805fa1610",
   "metadata": {},
   "source": [
    "### Step 2: Set Up Authentication\n",
    "\n",
    "Set environment variable with your service account key path:\n",
    "\n",
    "_export GOOGLE_APPLICATION_CREDENTIALS=\"path/to/your-service-account-key.json\"_\n"
   ]
  },
  {
   "cell_type": "markdown",
   "id": "5d26510c-a81f-404d-9f73-d93af28b608b",
   "metadata": {},
   "source": [
    "### Step 3: Initialize the Storage Client"
   ]
  },
  {
   "cell_type": "code",
   "execution_count": 3,
   "id": "2b52a2c7-7d4b-4719-a04d-deb308e0da72",
   "metadata": {},
   "outputs": [],
   "source": [
    "from google.cloud import storage\n",
    "from google.oauth2 import service_account\n"
   ]
  },
  {
   "cell_type": "code",
   "execution_count": 6,
   "id": "a7337ce7",
   "metadata": {},
   "outputs": [],
   "source": [
    "credentials_path = \"mds_storage_key.json\"\n",
    "bucket_name = \"mds_cloud_computing_lab_01\"\n",
    "credentials = service_account.Credentials.from_service_account_file(credentials_path)\n",
    "storage_client = storage.Client(credentials=credentials)\n",
    "bucket = storage_client.bucket(bucket_name)\n",
    "    "
   ]
  },
  {
   "cell_type": "code",
   "execution_count": 13,
   "id": "1e7eb678-19a0-4c87-ba4d-adc03785e006",
   "metadata": {},
   "outputs": [],
   "source": [
    "def upload_to_bucket(source_file_name, destination_blob_name):\n",
    "    \"\"\"Uploads a file to the GCS bucket.\"\"\" \n",
    "    blob = bucket.blob(destination_blob_name)\n",
    "    blob.upload_from_filename(source_file_name)\n",
    "    print(f\"File '{source_file_name}' uploaded to '{destination_blob_name}' in bucket '{bucket_name}'.\")\n",
    "\n",
    "def download_from_bucket(source_blob_name, destination_file_name):\n",
    "    \"\"\"Downloads a file from the GCS bucket.\"\"\"\n",
    "    blob = bucket.blob(source_blob_name)\n",
    "\n",
    "    blob.download_to_filename(destination_file_name)\n",
    "    print(f\"File '{source_blob_name}' downloaded to '{destination_file_name}' from bucket '{bucket_name}'.\")\n",
    "\n",
    "def list_bucket_files():\n",
    "    \"\"\"Lists all files in the GCS bucket.\"\"\"\n",
    "    print(f\"Files in bucket '{bucket_name}':\")\n",
    "    blobs = bucket.list_blobs()\n",
    "    for blob in blobs:\n",
    "        print(f\" - {blob.name}\")"
   ]
  },
  {
   "cell_type": "code",
   "execution_count": 10,
   "id": "e5f14013",
   "metadata": {},
   "outputs": [
    {
     "name": "stdout",
     "output_type": "stream",
     "text": [
      "File 'cat.jpg' uploaded to 'cloud_cat.jpg' in bucket 'mds_cloud_computing_lab_01'.\n"
     ]
    }
   ],
   "source": [
    "upload_to_bucket(\n",
    "    source_file_name=\"cat.jpg\",\n",
    "    destination_blob_name=\"cloud_cat.jpg\"\n",
    ")"
   ]
  },
  {
   "cell_type": "code",
   "execution_count": 12,
   "id": "9babcb15",
   "metadata": {},
   "outputs": [
    {
     "name": "stdout",
     "output_type": "stream",
     "text": [
      "File 'cloud_cat.jpg' downloaded to 'downloaded_cat.jpg' from bucket 'mds_cloud_computing_lab_01'.\n"
     ]
    }
   ],
   "source": [
    "download_from_bucket(\n",
    "    source_blob_name=\"cloud_cat.jpg\",\n",
    "    destination_file_name=\"downloaded_cat.jpg\",\n",
    "    \n",
    ")"
   ]
  },
  {
   "cell_type": "code",
   "execution_count": 14,
   "id": "d77d61d2",
   "metadata": {},
   "outputs": [
    {
     "name": "stdout",
     "output_type": "stream",
     "text": [
      "Files in bucket 'mds_cloud_computing_lab_01':\n",
      " - cloud_cat.jpg\n"
     ]
    }
   ],
   "source": [
    "list_bucket_files()"
   ]
  },
  {
   "cell_type": "code",
   "execution_count": null,
   "id": "eb1b1226",
   "metadata": {},
   "outputs": [],
   "source": []
  }
 ],
 "metadata": {
  "kernelspec": {
   "display_name": "base",
   "language": "python",
   "name": "python3"
  },
  "language_info": {
   "codemirror_mode": {
    "name": "ipython",
    "version": 3
   },
   "file_extension": ".py",
   "mimetype": "text/x-python",
   "name": "python",
   "nbconvert_exporter": "python",
   "pygments_lexer": "ipython3",
   "version": "3.12.4"
  }
 },
 "nbformat": 4,
 "nbformat_minor": 5
}
