{
 "cells": [
  {
   "cell_type": "code",
   "execution_count": 1,
   "id": "bbd2724a-0e36-4284-8f78-6b7439bf7529",
   "metadata": {},
   "outputs": [],
   "source": [
    "from collections import defaultdict"
   ]
  },
  {
   "cell_type": "code",
   "execution_count": 3,
   "id": "ed5fc514-6762-465f-84bf-ada7959e6d00",
   "metadata": {},
   "outputs": [],
   "source": [
    "# Sample input data: List of documents (strings)\n",
    "documents = [\n",
    "    \"Hello world\",\n",
    "    \"Hello MapReduce\",\n",
    "    \"MapReduce makes big data processing simple\",\n",
    "    \"The world of big data\"\n",
    "]"
   ]
  },
  {
   "cell_type": "markdown",
   "id": "2621e717-7383-44e0-afa0-aed410712b5e",
   "metadata": {},
   "source": [
    "### Map Function\n",
    "* Convert documents into key-value pairs (word, 1)\n",
    "* This function takes a document, splits it into words, and emits key-value pairs where the key is the word (in lowercase for consistency) and the value is 1."
   ]
  },
  {
   "cell_type": "code",
   "execution_count": 5,
   "id": "97a7950f-456b-49e9-b765-c8d77fcb06df",
   "metadata": {},
   "outputs": [],
   "source": [
    "def map_function(doc):\n",
    "    words = doc.split()\n",
    "    key_value_pairs = [(word.lower(), 1) for word in words]\n",
    "    return key_value_pairs"
   ]
  },
  {
   "cell_type": "markdown",
   "id": "e13c1d0b-928f-4b8c-b9db-69ccc367d3d9",
   "metadata": {},
   "source": [
    "### Shuffle and Sort\n",
    "* Group all key-value pairs by key (word)\n",
    "* The shuffle_sort function simulates grouping all the key-value pairs by their key (the word).\n",
    "* This phase ensures that all occurrences of the same word are grouped together."
   ]
  },
  {
   "cell_type": "code",
   "execution_count": 7,
   "id": "ac6c4785-6e9c-40bb-8b6d-c9c41f786868",
   "metadata": {},
   "outputs": [],
   "source": [
    "def shuffle_sort(mapped_data):\n",
    "    grouped_data = defaultdict(list)\n",
    "    for word, count in mapped_data:\n",
    "        grouped_data[word].append(count)\n",
    "    return grouped_data"
   ]
  },
  {
   "cell_type": "markdown",
   "id": "0e1215f5-ac50-444a-9e7d-a1951d18acf3",
   "metadata": {},
   "source": [
    "### Reduce Function\n",
    "* Sum the values for each word\n",
    "* The reduce_function aggregates the list of values for each word and sums them up to get the total count.\n"
   ]
  },
  {
   "cell_type": "code",
   "execution_count": 9,
   "id": "a9ec608f-c053-49e2-9caa-0522dfbca61f",
   "metadata": {},
   "outputs": [],
   "source": [
    "def reduce_function(grouped_data):\n",
    "    reduced_data = {word: sum(counts) for word, counts in grouped_data.items()}\n",
    "    return reduced_data\n"
   ]
  },
  {
   "cell_type": "markdown",
   "id": "214c4144-4b76-4c6b-aca0-d3392f29afc1",
   "metadata": {},
   "source": [
    "### MapReduce Simulation\n",
    "* The map_reduce function coordinates the Map, Shuffle/Sort, and Reduce phases.\n",
    "* It processes a list of documents and outputs the word count for each word."
   ]
  },
  {
   "cell_type": "code",
   "execution_count": 39,
   "id": "28079edb-e69e-4522-a1c0-454f466ee271",
   "metadata": {},
   "outputs": [],
   "source": [
    "def map_reduce(documents):\n",
    "    # Step 1: Map Phase\n",
    "    mapped_data = []\n",
    "    for doc in documents:\n",
    "        mapped_data.extend(map_function(doc))\n",
    "\n",
    "    print(\"Mapped data:\")\n",
    "    print(mapped_data)\n",
    "    print()\n",
    "    \n",
    "    # Step 2: Shuffle/Sort Phase\n",
    "    grouped_data = shuffle_sort(mapped_data)\n",
    "    print(\"Grouped data:\")\n",
    "    print(grouped_data)\n",
    "    print()\n",
    "    \n",
    "    # Step 3: Reduce Phase\n",
    "    reduced_data = reduce_function(grouped_data)\n",
    "    print(\"Reduced data:\")\n",
    "    print(reduced_data)\n",
    "    print()\n",
    "    \n",
    "    return reduced_data\n"
   ]
  },
  {
   "cell_type": "code",
   "execution_count": 31,
   "id": "2a88d429-d707-4294-b353-a8f3dd151943",
   "metadata": {},
   "outputs": [
    {
     "name": "stdout",
     "output_type": "stream",
     "text": [
      "Mapped data:\n",
      "[('hello', 1), ('world', 1), ('hello', 1), ('mapreduce', 1), ('mapreduce', 1), ('makes', 1), ('big', 1), ('data', 1), ('processing', 1), ('simple', 1), ('the', 1), ('world', 1), ('of', 1), ('big', 1), ('data', 1)]\n",
      "\n",
      "Grouped data:\n",
      "defaultdict(<class 'list'>, {'hello': [1, 1], 'world': [1, 1], 'mapreduce': [1, 1], 'makes': [1], 'big': [1, 1], 'data': [1, 1], 'processing': [1], 'simple': [1], 'the': [1], 'of': [1]})\n",
      "\n",
      "Reduced data:\n",
      "{'hello': 2, 'world': 2, 'mapreduce': 2, 'makes': 1, 'big': 2, 'data': 2, 'processing': 1, 'simple': 1, 'the': 1, 'of': 1}\n",
      "\n"
     ]
    }
   ],
   "source": [
    "# Running the MapReduce word count\n",
    "result = map_reduce(documents)"
   ]
  },
  {
   "cell_type": "code",
   "execution_count": 15,
   "id": "4c49a2b3-7aa0-4ada-8bb5-d90a241baecc",
   "metadata": {},
   "outputs": [
    {
     "name": "stdout",
     "output_type": "stream",
     "text": [
      "Word Count using MapReduce:\n",
      "hello: 2\n",
      "world: 2\n",
      "mapreduce: 2\n",
      "makes: 1\n",
      "big: 2\n",
      "data: 2\n",
      "processing: 1\n",
      "simple: 1\n",
      "the: 1\n",
      "of: 1\n"
     ]
    }
   ],
   "source": [
    "# Display the result\n",
    "print(\"Word Count using MapReduce:\")\n",
    "for word, count in result.items():\n",
    "    print(f\"{word}: {count}\")"
   ]
  },
  {
   "cell_type": "code",
   "execution_count": null,
   "id": "9812cdaa-72fd-4d7a-8397-8d9e410eb33c",
   "metadata": {},
   "outputs": [],
   "source": []
  }
 ],
 "metadata": {
  "kernelspec": {
   "display_name": "Python 3 (ipykernel)",
   "language": "python",
   "name": "python3"
  },
  "language_info": {
   "codemirror_mode": {
    "name": "ipython",
    "version": 3
   },
   "file_extension": ".py",
   "mimetype": "text/x-python",
   "name": "python",
   "nbconvert_exporter": "python",
   "pygments_lexer": "ipython3",
   "version": "3.12.4"
  }
 },
 "nbformat": 4,
 "nbformat_minor": 5
}
