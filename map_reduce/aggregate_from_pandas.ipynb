{
 "cells": [
  {
   "cell_type": "code",
   "execution_count": 1,
   "id": "4f7ccfff-1c8e-4c30-9a90-fb64796f2f1e",
   "metadata": {},
   "outputs": [],
   "source": [
    "import pandas as pd\n",
    "from collections import defaultdict"
   ]
  },
  {
   "cell_type": "code",
   "execution_count": 3,
   "id": "ec24556a-d469-4e82-92ee-09a1cb5e81ca",
   "metadata": {},
   "outputs": [],
   "source": [
    "# Sample sales data in a DataFrame\n",
    "data = {\n",
    "    'Product': ['Apple', 'Banana', 'Apple', 'Banana', 'Orange', 'Banana', 'Apple', 'Orange'],\n",
    "    'Sales': [100, 150, 200, 250, 300, 100, 150, 200]\n",
    "}\n",
    "\n",
    "df = pd.DataFrame(data)"
   ]
  },
  {
   "cell_type": "code",
   "execution_count": 7,
   "id": "88c75439-3f46-4b22-b101-f0ad97727251",
   "metadata": {},
   "outputs": [
    {
     "data": {
      "text/html": [
       "<div>\n",
       "<style scoped>\n",
       "    .dataframe tbody tr th:only-of-type {\n",
       "        vertical-align: middle;\n",
       "    }\n",
       "\n",
       "    .dataframe tbody tr th {\n",
       "        vertical-align: top;\n",
       "    }\n",
       "\n",
       "    .dataframe thead th {\n",
       "        text-align: right;\n",
       "    }\n",
       "</style>\n",
       "<table border=\"1\" class=\"dataframe\">\n",
       "  <thead>\n",
       "    <tr style=\"text-align: right;\">\n",
       "      <th></th>\n",
       "      <th>Product</th>\n",
       "      <th>Sales</th>\n",
       "    </tr>\n",
       "  </thead>\n",
       "  <tbody>\n",
       "    <tr>\n",
       "      <th>0</th>\n",
       "      <td>Apple</td>\n",
       "      <td>100</td>\n",
       "    </tr>\n",
       "    <tr>\n",
       "      <th>1</th>\n",
       "      <td>Banana</td>\n",
       "      <td>150</td>\n",
       "    </tr>\n",
       "    <tr>\n",
       "      <th>2</th>\n",
       "      <td>Apple</td>\n",
       "      <td>200</td>\n",
       "    </tr>\n",
       "    <tr>\n",
       "      <th>3</th>\n",
       "      <td>Banana</td>\n",
       "      <td>250</td>\n",
       "    </tr>\n",
       "    <tr>\n",
       "      <th>4</th>\n",
       "      <td>Orange</td>\n",
       "      <td>300</td>\n",
       "    </tr>\n",
       "    <tr>\n",
       "      <th>5</th>\n",
       "      <td>Banana</td>\n",
       "      <td>100</td>\n",
       "    </tr>\n",
       "    <tr>\n",
       "      <th>6</th>\n",
       "      <td>Apple</td>\n",
       "      <td>150</td>\n",
       "    </tr>\n",
       "    <tr>\n",
       "      <th>7</th>\n",
       "      <td>Orange</td>\n",
       "      <td>200</td>\n",
       "    </tr>\n",
       "  </tbody>\n",
       "</table>\n",
       "</div>"
      ],
      "text/plain": [
       "  Product  Sales\n",
       "0   Apple    100\n",
       "1  Banana    150\n",
       "2   Apple    200\n",
       "3  Banana    250\n",
       "4  Orange    300\n",
       "5  Banana    100\n",
       "6   Apple    150\n",
       "7  Orange    200"
      ]
     },
     "execution_count": 7,
     "metadata": {},
     "output_type": "execute_result"
    }
   ],
   "source": [
    "# Display the DataFrame\n",
    "df"
   ]
  },
  {
   "cell_type": "markdown",
   "id": "a5cd3c56-7692-4204-b348-13401995294d",
   "metadata": {},
   "source": [
    "### Map Function\n",
    "* Convert each row into key-value pair (Product, Sales)\n",
    "* This function takes a row from the DataFrame and extracts a key-value pair where the key is the Product and the value is the Sales.\n"
   ]
  },
  {
   "cell_type": "code",
   "execution_count": 21,
   "id": "47de67b5-6365-4e6f-b34e-3718c0a60370",
   "metadata": {},
   "outputs": [],
   "source": [
    "def map_function(row):\n",
    "    product = row['Product']\n",
    "    sales = row['Sales']\n",
    "    return product, sales"
   ]
  },
  {
   "cell_type": "markdown",
   "id": "c7337d5e-fe76-4e3a-a1a1-3c53ba3e7e08",
   "metadata": {},
   "source": [
    "### Shuffle and Sort \n",
    "* Group all key-value pairs by key (Product)\n",
    "* The shuffle_sort function simulates the grouping of key-value pairs by their key (the product name).\n",
    "* It stores each product’s sales values in a list.\n"
   ]
  },
  {
   "cell_type": "code",
   "execution_count": 11,
   "id": "13182914-da34-41f8-86b7-180ba3ffb4a7",
   "metadata": {},
   "outputs": [],
   "source": [
    "def shuffle_sort(mapped_data):\n",
    "    grouped_data = defaultdict(list)\n",
    "    for product, sales in mapped_data:\n",
    "        grouped_data[product].append(sales)\n",
    "    return grouped_data"
   ]
  },
  {
   "cell_type": "markdown",
   "id": "b38711aa-2a1d-42e9-99e2-ae2c26997a64",
   "metadata": {},
   "source": [
    "### Reduce Function\n",
    "* Sum the sales for each product\n",
    "* The reduce_function aggregates the sales for each product by summing all values in the list for each product."
   ]
  },
  {
   "cell_type": "code",
   "execution_count": 26,
   "id": "fefb8f56-2f63-4821-8f97-c6975d6c757e",
   "metadata": {},
   "outputs": [],
   "source": [
    "def reduce_function(grouped_data):\n",
    "    reduced_data = {product: sum(sales) for product, sales in grouped_data.items()}\n",
    "    return reduced_data"
   ]
  },
  {
   "cell_type": "markdown",
   "id": "ad070d68-9e79-4e5f-ac34-c474b8585927",
   "metadata": {},
   "source": [
    "### MapReduce Simulation\n",
    "* Simulate the MapReduce process on a DataFrame\n",
    "* The map_reduce function coordinates the Map, Shuffle/Sort, and Reduce phases.\n",
    "* It processes all the rows in the DataFrame and outputs the aggregated sales data.\n"
   ]
  },
  {
   "cell_type": "code",
   "execution_count": 15,
   "id": "2c2be3dd-fa11-4622-9fc0-c8b643eebae6",
   "metadata": {},
   "outputs": [],
   "source": [
    "def map_reduce(df):\n",
    "    # Step 1: Map Phase\n",
    "    mapped_data = []\n",
    "    for _, row in df.iterrows():\n",
    "        mapped_data.append(map_function(row))\n",
    "    \n",
    "    # Step 2: Shuffle/Sort Phase\n",
    "    grouped_data = shuffle_sort(mapped_data)\n",
    "    \n",
    "    # Step 3: Reduce Phase\n",
    "    reduced_data = reduce_function(grouped_data)\n",
    "    \n",
    "    return reduced_data"
   ]
  },
  {
   "cell_type": "code",
   "execution_count": 17,
   "id": "a3be221c-92e1-4e04-b080-6bd2e91764cc",
   "metadata": {},
   "outputs": [],
   "source": [
    "# Running the MapReduce aggregation on the sales data\n",
    "result = map_reduce(df)"
   ]
  },
  {
   "cell_type": "code",
   "execution_count": 19,
   "id": "ecbe91f6-f086-4289-b8b7-c8c5a33fdbbf",
   "metadata": {},
   "outputs": [
    {
     "name": "stdout",
     "output_type": "stream",
     "text": [
      "\n",
      "Aggregated Sales Data using MapReduce:\n",
      "Apple: 450\n",
      "Banana: 500\n",
      "Orange: 500\n"
     ]
    }
   ],
   "source": [
    "# Display the result\n",
    "print(\"\\nAggregated Sales Data using MapReduce:\")\n",
    "for product, total_sales in result.items():\n",
    "    print(f\"{product}: {total_sales}\")\n"
   ]
  },
  {
   "cell_type": "code",
   "execution_count": null,
   "id": "16bb6144-2c48-4286-a7c9-bee821904afd",
   "metadata": {},
   "outputs": [],
   "source": []
  }
 ],
 "metadata": {
  "kernelspec": {
   "display_name": "Python 3 (ipykernel)",
   "language": "python",
   "name": "python3"
  },
  "language_info": {
   "codemirror_mode": {
    "name": "ipython",
    "version": 3
   },
   "file_extension": ".py",
   "mimetype": "text/x-python",
   "name": "python",
   "nbconvert_exporter": "python",
   "pygments_lexer": "ipython3",
   "version": "3.12.4"
  }
 },
 "nbformat": 4,
 "nbformat_minor": 5
}
