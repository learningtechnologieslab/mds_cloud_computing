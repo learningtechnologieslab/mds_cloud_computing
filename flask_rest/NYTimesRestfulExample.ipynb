{
 "cells": [
  {
   "cell_type": "code",
   "execution_count": 67,
   "id": "aab15891-e53e-40cd-8942-32c05e1df0f5",
   "metadata": {},
   "outputs": [],
   "source": [
    "import requests"
   ]
  },
  {
   "cell_type": "code",
   "execution_count": 69,
   "id": "0337e766-bf32-484a-96ca-f4273dfd496f",
   "metadata": {},
   "outputs": [],
   "source": [
    "# Set the API endpoint and your API key\n",
    "api_key = 'YOUR_API_KEY'\n",
    "url = 'https://api.nytimes.com/svc/search/v2/articlesearch.json'\n"
   ]
  },
  {
   "cell_type": "code",
   "execution_count": 71,
   "id": "44f7fb82-81b7-42e1-8120-0b25cb783831",
   "metadata": {},
   "outputs": [],
   "source": [
    "# Parameters for the API request\n",
    "params = {\n",
    "    \"api-key\" : api_key,\n",
    "    \"q\" : \"election\"\n",
    "}\n"
   ]
  },
  {
   "cell_type": "code",
   "execution_count": 73,
   "id": "3422716a-e119-4ba9-9fde-8edbecf13bd2",
   "metadata": {},
   "outputs": [],
   "source": [
    "# Send a GET request to the NYT API\n",
    "response = requests.get(url, params=params)"
   ]
  },
  {
   "cell_type": "code",
   "execution_count": 74,
   "id": "b2c70ee2-b62d-4a89-8fba-47c45e1657fd",
   "metadata": {},
   "outputs": [
    {
     "name": "stdout",
     "output_type": "stream",
     "text": [
      "Is the Election Affecting Your Relationships?\n",
      "Pro-Palestinian ‘Uncommitted’ Group Comes Out Firmly Against Trump\n",
      "A Year After Oct. 7 Massacre, Jewish Anxiety Peaks in Pennsylvania\n",
      "How One Man’s Vote in Nebraska Could Change the Presidential Election\n",
      "New Jersey 10th Congressional District Special Election Results\n",
      "Harris Leads in Race for Eastern Nebraska’s One Electoral Vote, Poll Finds\n",
      "Republican Candidates Keep Straying Into Dangerous Territory: Abortion\n",
      "Delaware Governor Primary Election Results\n",
      "New Hampshire Governor Primary Election Results\n",
      "Delaware Lieutenant Governor Primary Election Results\n"
     ]
    }
   ],
   "source": [
    "# Check if the request was successful\n",
    "if response.status_code == 200:\n",
    "    data = response.json()\n",
    "    # Extract and print article titles and URLs\n",
    "    for article in data['response']['docs']:\n",
    "        print(article['headline']['main'])\n",
    "else:\n",
    "    print(f\"Failed to retrieve data: {response.status_code}\")\n"
   ]
  },
  {
   "cell_type": "code",
   "execution_count": null,
   "id": "684d8247-e69a-4bd9-afee-38843e2dab4b",
   "metadata": {},
   "outputs": [],
   "source": []
  },
  {
   "cell_type": "code",
   "execution_count": null,
   "id": "31608122-3dee-40dd-98d5-6eacdb6985f4",
   "metadata": {},
   "outputs": [],
   "source": []
  }
 ],
 "metadata": {
  "kernelspec": {
   "display_name": "Python 3 (ipykernel)",
   "language": "python",
   "name": "python3"
  },
  "language_info": {
   "codemirror_mode": {
    "name": "ipython",
    "version": 3
   },
   "file_extension": ".py",
   "mimetype": "text/x-python",
   "name": "python",
   "nbconvert_exporter": "python",
   "pygments_lexer": "ipython3",
   "version": "3.12.4"
  }
 },
 "nbformat": 4,
 "nbformat_minor": 5
}
